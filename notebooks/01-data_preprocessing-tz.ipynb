{
 "cells": [
  {
   "cell_type": "code",
   "execution_count": null,
   "metadata": {},
   "outputs": [],
   "source": []
  },
  {
   "cell_type": "code",
   "execution_count": null,
   "metadata": {},
   "outputs": [],
   "source": [
    "import altair as alt\n",
    "import joblib\n",
    "import os\n",
    "import pandas as pd\n",
    "from sklearn.model_selection import train_test_split\n",
    "from tqdm import tqdm\n",
    "from typing import List, Set\n",
    "import numpy as np\n",
    "\n",
    "from sklearn.impute import SimpleImputer\n",
    "from sklearn.preprocessing import StandardScaler, OneHotEncoder\n",
    "from sklearn.pipeline import Pipeline\n",
    "from sklearn.compose import ColumnTransformer\n",
    "from sklearn.metrics import classification_report, confusion_matrix, precision_recall_curve, accuracy_score"
   ]
  },
  {
   "cell_type": "code",
   "execution_count": null,
   "metadata": {},
   "outputs": [],
   "source": [
    "RANDOM_SEED = 17\n",
    "df_type = 'wv_pca_df'\n",
    "pca_components = 30\n",
    "use_topics=True\n",
    "project_base = os.path.dirname(os.path.realpath('.'))\n",
    "print(f'Project base path: {project_base}')\n",
    "print(f'DF type: {df_type}')"
   ]
  },
  {
   "cell_type": "code",
   "execution_count": null,
   "metadata": {},
   "outputs": [],
   "source": [
    "# read the dfs in\n",
    "\n",
    "if df_type == 'use_simple_df':\n",
    "    X = pd.read_csv(os.path.join(project_base, 'data', 'cleaned_data','X_updated.csv'))\n",
    "    kaggle_X = pd.read_csv(os.path.join(project_base, 'data', 'cleaned_data','kaggle_X_updated.csv'))\n",
    "\n",
    "elif df_type == 'wv_pca_df':\n",
    "    X = pd.read_csv(os.path.join(project_base, 'data', 'cleaned_data', 'X_pca_updated.csv'))\n",
    "    kaggle_X = pd.read_csv(os.path.join(project_base, 'data', 'cleaned_data', 'kaggle_X_pca_updated.csv'))\n",
    "    wv_col_names = [f'wv_pca_cols{i}' for i in range(pca_components)]\n",
    "\n",
    "else:\n",
    "    print('Please Choose valid df_type')\n",
    "\n",
    "y = pd.read_csv(os.path.join(project_base, 'data', 'cleaned_data','y_updated.csv'))\n",
    "kaggle_y = pd.read_csv(os.path.join(project_base, 'data', 'cleaned_data','kaggle_y_updated.csv'))"
   ]
  },
  {
   "cell_type": "markdown",
   "metadata": {},
   "source": [
    "### Data Check and Simple Clean"
   ]
  },
  {
   "cell_type": "code",
   "execution_count": null,
   "metadata": {},
   "outputs": [],
   "source": [
    "# helpful to know how the categorical features should be treated \n",
    "# and if any features should be removed\n",
    "\n",
    "# for col_name in list(X):\n",
    "#     if X[col_name].value_counts().shape[0] == 1:\n",
    "#         print(f'**WARNING** Column \"{col_name}\" has {X[col_name].value_counts().shape[0]} unique features.  REMOVE\\n')\n",
    "#     elif X[col_name].value_counts().shape[0] == 2:\n",
    "#         print(f'**WARNING** Column \"{col_name}\" has {X[col_name].value_counts().shape[0]} unique features.  Should be encoded as boolean.\\n')\n",
    "#     else:\n",
    "#         print(f'Column \"{col_name}\" has {X[col_name].value_counts().shape[0]} unique features\\n')\n",
    "        \n",
    "        "
   ]
  },
  {
   "cell_type": "code",
   "execution_count": null,
   "metadata": {},
   "outputs": [],
   "source": [
    "# drop columns with only 1 unique value\n",
    "X.drop(['Bigram_avg', 'Bigram_max'], inplace=True, axis=1)\n",
    "kaggle_X.drop(['Bigram_avg', 'Bigram_max'], inplace=True, axis=1)"
   ]
  },
  {
   "cell_type": "code",
   "execution_count": null,
   "metadata": {},
   "outputs": [],
   "source": [
    "if use_topics:\n",
    "    topics = (pd.read_csv(os.path.join(project_base,  'data', 'WikiLarge_Train_With_Topics.csv'))['topic']).astype(str)\n",
    "    X['topic'] = topics"
   ]
  },
  {
   "cell_type": "markdown",
   "metadata": {},
   "source": [
    "### Split into Test and Train Sets"
   ]
  },
  {
   "cell_type": "code",
   "execution_count": null,
   "metadata": {},
   "outputs": [],
   "source": [
    "X_train, X_test, y_train, y_test =  train_test_split(X, y, random_state=RANDOM_SEED)\n",
    "print(f'train set size: {X_train.shape}')\n",
    "print(f'test set size: {X_test.shape}')"
   ]
  },
  {
   "cell_type": "markdown",
   "metadata": {},
   "source": [
    "### Preprocessing"
   ]
  },
  {
   "cell_type": "code",
   "execution_count": null,
   "metadata": {},
   "outputs": [],
   "source": [
    "num_cols = ['word_count',\n",
    " 'dale_chale_overlap_count',\n",
    " 'Nletters_max',\n",
    " 'Nphon_max',\n",
    " 'Nsyll_max',\n",
    " 'AoA_Kup_max',\n",
    " 'Perc_known_max',\n",
    " 'AoA_Kup_lem_max',\n",
    " 'Nletters_avg',\n",
    " 'Nphon_avg',\n",
    " 'Nsyll_avg',\n",
    " 'AoA_Kup_avg',\n",
    " 'Perc_known_avg',\n",
    " 'AoA_Kup_lem_avg',\n",
    " 'Conc.M_max',\n",
    " 'Conc.SD_max',\n",
    " 'Total_max',\n",
    " 'Percent_known_max',\n",
    " 'SUBTLEX_max',\n",
    " 'Conc.M_avg',\n",
    " 'Conc.SD_avg',\n",
    " 'Total_avg',\n",
    " 'Percent_known_avg',\n",
    " 'SUBTLEX_avg',\n",
    " 'Unknown_max', \n",
    " 'Unknown_avg']\n",
    "try:\n",
    "    num_cols += wv_col_names\n",
    "except NameError:\n",
    "    print('WVs not used')\n",
    "\n",
    "if use_topics:\n",
    "    cat_cols = ['topic']\n",
    "bool_cols = []\n",
    "\n",
    "print(f'Column total count: {len(num_cols)+(len(cat_cols))+(len(bool_cols))}')\n",
    "print(f'X column count: {X_train.shape[1]}')\n",
    "\n",
    "# make sure we didnt miss any columns\n",
    "assert (len(num_cols))+(len(cat_cols))+(len(bool_cols)) == X_train.shape[1]"
   ]
  },
  {
   "cell_type": "code",
   "execution_count": null,
   "metadata": {},
   "outputs": [],
   "source": [
    "num_transformer = Pipeline(steps=[\n",
    "    ('imputer', SimpleImputer(strategy='median')),\n",
    "    ('scaler', StandardScaler())\n",
    "])\n",
    "\n",
    "cat_transformer = Pipeline(steps=[\n",
    "    ('imputer', SimpleImputer(strategy='constant', fill_value='missing')),\n",
    "    ('ohe', OneHotEncoder(handle_unknown='ignore', sparse=False))\n",
    "])\n",
    "\n",
    "bool_transformer = Pipeline(steps=[\n",
    "    ('imputer', SimpleImputer(strategy='most_frequent')),\n",
    "    ('ohe', OneHotEncoder(handle_unknown='error', drop='first', sparse=False))\n",
    "])\n",
    "\n",
    "# \n",
    "preprocessor = ColumnTransformer([\n",
    "    ('num', num_transformer, num_cols),\n",
    "    ('cat', cat_transformer, cat_cols),\n",
    "    ('bool', bool_transformer, bool_cols)\n",
    "])\n",
    "\n",
    "preprocessor.fit(X_train)"
   ]
  },
  {
   "cell_type": "code",
   "execution_count": null,
   "metadata": {},
   "outputs": [],
   "source": [
    "if len(cat_cols) != 0:\n",
    "    # recreate pandas df with names\n",
    "    # mostly useful for feature importance libraries (SHAP, LIME)\n",
    "    ohe_cats = preprocessor.named_transformers_['cat'].named_steps['ohe'].categories_\n",
    "\n",
    "    new_ohe_features = [f\"{col}__{val}\" for col, vals in zip(cat_cols, ohe_cats) for val in\n",
    "                        vals]\n",
    "    all_features = num_cols + new_ohe_features + bool_cols\n",
    "\n",
    "    X_train_processed = pd.DataFrame(preprocessor.transform(X_train), columns=all_features,\n",
    "                                     index=X_train.index).astype(float)\n",
    "    X_test_processed = pd.DataFrame(preprocessor.transform(X_test), columns=all_features,\n",
    "                                    index=X_test.index).astype(float)\n",
    "else:\n",
    "    X_train_processed = preprocessor.transform(X_train)\n",
    "    X_test_processed = preprocessor.transform(X_test)\n",
    "    X_kaggle_processed = preprocessor.transform(kaggle_X)\n",
    "    \n",
    "# \n",
    "# y_train = pd.DataFrame(y_train, columns=['target_variable'], index=y_train.index).astype(float)\n",
    "# y_test = pd.DataFrame(y_test, columns=['target_variable'], index=y_test.index).astype(float)"
   ]
  },
  {
   "cell_type": "code",
   "execution_count": null,
   "metadata": {},
   "outputs": [],
   "source": [
    "if use_topics:\n",
    "    X_train_processed.to_csv(os.path.join(project_base, 'data', 'cleaned_data', 'processed_train_data_w_topics.csv'), index=False)\n",
    "\n",
    "    X_test_processed.to_csv(os.path.join(project_base, 'data', 'cleaned_data', 'processed_test_data_w_topics.csv'), index=False)\n",
    "\n",
    "    # will need to add topics for the kaggle test set if topics improve model performance\n",
    "#     processed_kaggle_df = pd.DataFrame(X_kaggle_processed, columns=num_cols)\n",
    "#     processed_kaggle_df.to_csv(os.path.join(project_base, 'data', 'cleaned_data', 'processed_kaggle_data_w_topics.csv'), index=False)\n",
    "\n",
    "    \n",
    "else:\n",
    "    processed_train_df = pd.DataFrame(X_train_processed, columns=num_cols)\n",
    "    processed_train_df.to_csv(os.path.join(project_base, 'data', 'cleaned_data', 'processed_train_data.csv'), index=False)\n",
    "\n",
    "    processed_test_df = pd.DataFrame(X_test_processed, columns=num_cols)\n",
    "    processed_test_df.to_csv(os.path.join(project_base, 'data', 'cleaned_data', 'processed_test_data.csv'), index=False)\n",
    "\n",
    "    processed_kaggle_df = pd.DataFrame(X_kaggle_processed, columns=num_cols)\n",
    "    processed_kaggle_df.to_csv(os.path.join(project_base, 'data', 'cleaned_data', 'processed_kaggle_data.csv'), index=False)\n"
   ]
  },
  {
   "cell_type": "code",
   "execution_count": null,
   "metadata": {},
   "outputs": [],
   "source": [
    "y_train = np.array(y_train).reshape(-1)\n",
    "y_test = np.array(y_test).reshape(-1)\n",
    "kaggle_y = np.array(kaggle_y).reshape(-1)"
   ]
  },
  {
   "cell_type": "code",
   "execution_count": null,
   "metadata": {},
   "outputs": [],
   "source": [
    "pd.DataFrame({'actual_outcome': np.array(y_train).reshape(-1)}).to_csv(os.path.join(project_base, \n",
    "                                                                                    'data', 'cleaned_data',\n",
    "                                                                                    'processed_train_y.csv'), index=False)\n",
    "\n",
    "pd.DataFrame({'actual_outcome': np.array(y_test).reshape(-1)}).to_csv(os.path.join(project_base, \n",
    "                                                                                    'data', 'cleaned_data',\n",
    "                                                                                    'processed_test_y.csv'), index=False)\n",
    "\n",
    "pd.DataFrame({'actual_outcome': np.array(kaggle_y).reshape(-1)}).to_csv(os.path.join(project_base, \n",
    "                                                                                    'data', 'cleaned_data',\n",
    "                                                                                    'processed_kaggle_y.csv'), index=False)"
   ]
  },
  {
   "cell_type": "code",
   "execution_count": null,
   "metadata": {},
   "outputs": [],
   "source": []
  }
 ],
 "metadata": {
  "kernelspec": {
   "display_name": "Python 3",
   "language": "python",
   "name": "python3"
  },
  "language_info": {
   "codemirror_mode": {
    "name": "ipython",
    "version": 3
   },
   "file_extension": ".py",
   "mimetype": "text/x-python",
   "name": "python",
   "nbconvert_exporter": "python",
   "pygments_lexer": "ipython3",
   "version": "3.7.6"
  }
 },
 "nbformat": 4,
 "nbformat_minor": 4
}
